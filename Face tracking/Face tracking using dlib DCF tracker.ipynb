{
 "cells": [
  {
   "cell_type": "markdown",
   "metadata": {},
   "source": [
    "## Face tracking using dlib DCF(discriminative correlation filter)"
   ]
  },
  {
   "cell_type": "code",
   "execution_count": 1,
   "metadata": {},
   "outputs": [],
   "source": [
    "##importing the dependencies\n",
    "import cv2\n",
    "import dlib\n",
    "import time\n",
    "import numpy as np\n",
    "import matplotlib.pyplot as plt\n",
    "%matplotlib inline"
   ]
  },
  {
   "cell_type": "code",
   "execution_count": 2,
   "metadata": {},
   "outputs": [],
   "source": [
    "##helper function\n",
    "def draw_info():\n",
    "    \n",
    "    menu_pos_1 = (10,20)\n",
    "    menu_pos_2 = (10,50)\n",
    "    \n",
    "    cv2.putText(frame,\"use '1' to re-initialize the tracker\",menu_pos_1,cv2.FONT_HERSHEY_SIMPLEX,0.5,(0,0,255),3)\n",
    "    if tracking_face == True:\n",
    "        cv2.putText(frame,'tracking face',menu_pos_2,cv2.FONT_HERSHEY_SIMPLEX,0.5,(0,0,255),3)\n",
    "        \n",
    "    else:\n",
    "        cv2.putText(frame,'detecting face to initialize the tracker',menu_pos_2,cv2.FONT_HERSHEY_SIMPLEX,0.5,(0,0,255),3)\n"
   ]
  },
  {
   "cell_type": "code",
   "execution_count": 3,
   "metadata": {},
   "outputs": [],
   "source": [
    "##face detector\n",
    "detector = dlib.get_frontal_face_detector()\n",
    "\n",
    "##face tracker\n",
    "tracker = dlib.correlation_tracker()\n",
    "\n",
    "##variable to control tracking\n",
    "tracking_face = False\n",
    "\n",
    "##reading the camera\n",
    "vs = cv2.VideoCapture(0)\n",
    "time.sleep(1)\n",
    "\n",
    "\n",
    "while True:\n",
    "    \n",
    "    ##getting the frame\n",
    "    ret,frame = vs.read()\n",
    "    \n",
    "    \n",
    "    draw_info()\n",
    "    \n",
    "    ##detect face if not  tracking_face\n",
    "    if not tracking_face:\n",
    "        gray = cv2.cvtColor(frame,cv2.COLOR_BGR2GRAY)\n",
    "        rects = detector(gray,0)\n",
    "    \n",
    "        if len(rects) > 0:\n",
    "            tracker.start_track(frame,rects[0])\n",
    "            tracking_face = True\n",
    "        \n",
    "    ##if already tracking face update tracker\n",
    "    if tracking_face:\n",
    "        \n",
    "        ##update tracker and print the confidence of tracking\n",
    "        tracker.update(frame)\n",
    "        \n",
    "        ##get the position of the face\n",
    "        pos = tracker.get_position()\n",
    "        \n",
    "        cv2.rectangle(frame,(int(pos.left()),int(pos.top())),(int(pos.right()),int(pos.bottom())),(0,255,0),3)\n",
    "       \n",
    "    ##re-initialize the tracker if key '1' is pressed\n",
    "    key = cv2.waitKey(1) & 0xFFf\n",
    "    \n",
    "    if key == ord('1'):\n",
    "        tracking_face = False\n",
    "        \n",
    "    if key == ord('q'):\n",
    "        break\n",
    "        \n",
    "    cv2.imshow('Face tracking suing dlib DCF based tracker',frame)\n",
    "    \n",
    "vs.release()\n",
    "cv2.destroyAllWindows()"
   ]
  }
 ],
 "metadata": {
  "kernelspec": {
   "display_name": "Python 3",
   "language": "python",
   "name": "python3"
  },
  "language_info": {
   "codemirror_mode": {
    "name": "ipython",
    "version": 3
   },
   "file_extension": ".py",
   "mimetype": "text/x-python",
   "name": "python",
   "nbconvert_exporter": "python",
   "pygments_lexer": "ipython3",
   "version": "3.7.1"
  }
 },
 "nbformat": 4,
 "nbformat_minor": 2
}
