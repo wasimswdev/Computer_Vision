{
 "cells": [
  {
   "cell_type": "markdown",
   "metadata": {},
   "source": [
    "## Object tracking using dlib DCF tracker"
   ]
  },
  {
   "cell_type": "code",
   "execution_count": 1,
   "metadata": {},
   "outputs": [],
   "source": [
    "##importing the dependencies\n",
    "import cv2\n",
    "import dlib\n",
    "import time\n",
    "import numpy as np\n",
    "import matplotlib.pyplot as plt\n",
    "%matplotlib inline"
   ]
  },
  {
   "cell_type": "code",
   "execution_count": 3,
   "metadata": {},
   "outputs": [],
   "source": [
    "def draw_info():\n",
    "    \n",
    "    ##positions to put text\n",
    "    menu_pos_1 = (10,20)\n",
    "    menu_pos_2 = (10,40)\n",
    "    menu_pos_3 = (10,60)\n",
    "    \n",
    "    info_1 = 'use left button of the mouse to select objects to track'\n",
    "    info_2 = \"click '1' to start tracking, '2' to reset tracking, 'q' to quit\"\n",
    "    \n",
    "    \n",
    "    cv2.putText(frame,info_1,menu_pos_1,cv2.FONT_HERSHEY_COMPLEX,1,(255,255,255),1)\n",
    "    cv2.putText(frame,info_2,menu_pos_2,cv2.FONT_HERSHEY_COMPLEX,1,(255,255,255),1)\n",
    "    if tracking_state:\n",
    "        cv2.putText(frame,'Tracking',menu_pos_3,cv2.FONT_HERSHEY_COMPLEX,1,(0,0,255),1)\n",
    "    else:\n",
    "        cv2.putText(frame,'not tracking',menu_pos_3,cv2.FONT_HERSHEY_COMPLEX,1,(0,0,255),1)\n",
    "        \n",
    "##list for storing co-ordinates of the object\n",
    "points = []\n",
    "\n",
    "def mouse_event(event,x,y,flags,param):\n",
    "    global points \n",
    "    \n",
    "    if event == cv2.EVENT_LBUTTONDOWN:\n",
    "        points = [(x,y)]\n",
    "    \n",
    "    elif event == cv2.EVENT_LBUTTONUP:\n",
    "        points.append((x,y))\n",
    "        \n",
    "        \n",
    "        \n",
    "vs = cv2.VideoCapture(0)\n",
    "text = 'Object tracking using dlib DCF based tracker'\n",
    "cv2.namedWindow(text)\n",
    "cv2.setMouseCallback(text,mouse_event)\n",
    "tracker = dlib.correlation_tracker()\n",
    "tracking_state = False\n",
    "\n",
    "while True:\n",
    "    \n",
    "    ret,frame = vs.read()\n",
    "    \n",
    "    draw_info()\n",
    "    \n",
    "    if len(points) == 2:\n",
    "        cv2.rectangle(frame,points[0],points[1],(0,255,0),2)\n",
    "        \n",
    "    if tracking_state:\n",
    "        tracker.update(frame)\n",
    "        pos = tracker.get_position()\n",
    "        cv2.rectangle(frame,(int(pos.left()),int(pos.top())),(int(pos.right()),int(pos.bottom())),(0,255,0),2)\n",
    "        \n",
    "    key = cv2.waitKey(1) & 0xFF\n",
    "    \n",
    "    if key == ord(\"1\"):\n",
    "        if len(points) == 2:\n",
    "            tracker.start_track(frame,dlib.rectangle(points[0][0],points[0][1],points[1][0],points[1][1]))\n",
    "            tracking_state = True\n",
    "            points = []\n",
    "            \n",
    "    elif key == ord(\"2\"):\n",
    "        points = []\n",
    "        tracking_state  = False\n",
    "        \n",
    "    elif key == ord( 'q'):\n",
    "        break\n",
    "        \n",
    "    cv2.imshow(text,frame)\n",
    "\n",
    "vs.release()\n",
    "cv2.destroyAllWindows()"
   ]
  },
  {
   "cell_type": "markdown",
   "metadata": {},
   "source": [
    "## Important :<br>Binding the window name for mouse events and imshow is very important to show camera feed as well as record mouse events"
   ]
  }
 ],
 "metadata": {
  "kernelspec": {
   "display_name": "Python 3",
   "language": "python",
   "name": "python3"
  },
  "language_info": {
   "codemirror_mode": {
    "name": "ipython",
    "version": 3
   },
   "file_extension": ".py",
   "mimetype": "text/x-python",
   "name": "python",
   "nbconvert_exporter": "python",
   "pygments_lexer": "ipython3",
   "version": "3.7.1"
  }
 },
 "nbformat": 4,
 "nbformat_minor": 2
}
