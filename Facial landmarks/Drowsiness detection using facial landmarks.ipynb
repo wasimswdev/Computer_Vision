{
 "cells": [
  {
   "cell_type": "markdown",
   "metadata": {},
   "source": [
    "## Drowsiness detection(from Pyimagesearch with some modifications)"
   ]
  },
  {
   "cell_type": "code",
   "execution_count": 1,
   "metadata": {},
   "outputs": [
    {
     "name": "stderr",
     "output_type": "stream",
     "text": [
      "Using TensorFlow backend.\n"
     ]
    }
   ],
   "source": [
    "##importing the dependencies\n",
    "import cv2\n",
    "import cvlib\n",
    "import dlib\n",
    "import numpy as np\n",
    "from threading import Thread\n",
    "import playsound\n",
    "from scipy.spatial import distance as dist\n",
    "import time\n"
   ]
  },
  {
   "cell_type": "code",
   "execution_count": 2,
   "metadata": {},
   "outputs": [],
   "source": [
    "##helper functions\n",
    "EYE_AR_THRESH = 0.3\n",
    "EYE_AR_CONSEC_FRAMES = 30\n",
    " \n",
    "# initialize the frame counter as well as a boolean used to\n",
    "# indicate if the alarm is going off\n",
    "COUNTER = 0\n",
    "ALARM_ON = False\n",
    "\n",
    "def sound_alarm(path):\n",
    "\t# play an alarm sound\n",
    "    playsound.playsound(path)\n",
    "\n",
    "def eye_aspect_ratio(eye):\n",
    "\t# compute the euclidean distances between the two sets of\n",
    "\t# vertical eye landmarks (x, y)-coordinates\n",
    "\tA = dist.euclidean(eye[1], eye[5])\n",
    "\tB = dist.euclidean(eye[2], eye[4])\n",
    "\n",
    "\t# compute the euclidean distance between the horizontal\n",
    "\t# eye landmark (x, y)-coordinates\n",
    "\tC = dist.euclidean(eye[0], eye[3])\n",
    "\n",
    "\t# compute the eye aspect ratio\n",
    "\tear = (A + B) / (2.0 * C)\n",
    "\n",
    "\t# return the eye aspect ratio\n",
    "\treturn ear\n",
    "\n",
    "\n",
    "def shape_to_np(dlib_shape,dtype=int):\n",
    "    coordinates = np.zeros((dlib_shape.num_parts,2),dtype)\n",
    "    \n",
    "    for i in range(0,dlib_shape.num_parts):\n",
    "        coordinates[i] = (dlib_shape.part(i).x,dlib_shape.part(i).y)\n",
    "        \n",
    "    return coordinates"
   ]
  },
  {
   "cell_type": "code",
   "execution_count": 4,
   "metadata": {},
   "outputs": [],
   "source": [
    "p = \"models/shape_predictor_68_face_landmarks.dat\"\n",
    "predictor = dlib.shape_predictor(p)\n",
    "right_eye_points = list(range(36,42))\n",
    "left_eye_points = list(range(42,48))\n",
    "path = \"alarm.wav\"\n",
    "vs = cv2.VideoCapture(0)\n",
    "\n",
    "while True:\n",
    "    \n",
    "    ret, frame = vs.read()    \n",
    "    rects,confidence = cvlib.detect_face(frame,0.7)\n",
    "    \n",
    "    for rect in rects:\n",
    "        left = rect[0]\n",
    "        top = rect[1]\n",
    "        right = rect[2]\n",
    "        bottom = rect[3]\n",
    "\n",
    "        shape = predictor(frame,dlib.rectangle(left,top,right,bottom))\n",
    "        np_shape = shape_to_np(shape)\n",
    "        right_eye = np_shape[right_eye_points]\n",
    "        left_eye = np_shape[left_eye_points]\n",
    "        rightEAR = eye_aspect_ratio(right_eye)\n",
    "        leftEAR = eye_aspect_ratio(left_eye)\n",
    "        \n",
    "        ear = (leftEAR+rightEAR) / 2.0\n",
    "        # compute the convex hull for the left and right eye, then\n",
    "        # visualize each of the eyes\n",
    "        leftEyeHull = cv2.convexHull(left_eye)\n",
    "        rightEyeHull = cv2.convexHull(right_eye)\n",
    "        cv2.drawContours(frame,[leftEyeHull],-1,(0,255,0),2)\n",
    "        cv2.drawContours(frame,[rightEyeHull],-1,(0,255,0),2)\n",
    "        \n",
    "        \n",
    "        if ear < EYE_AR_THRESH:\n",
    "            COUNTER += 1\n",
    "            \n",
    "            if COUNTER >= EYE_AR_CONSEC_FRAMES:\n",
    "                if not ALARM_ON:\n",
    "                    ALARM_ON = True\n",
    "                    \n",
    "                    t = Thread(target=sound_alarm,args=(path,))\n",
    "                    t.daemon  = True\n",
    "                    t.start()\n",
    "                cv2.putText(frame,'DROWSINESS ALERT!',(left,top),cv2.FONT_HERSHEY_SIMPLEX,1,(0,0,255),2)\n",
    "                    \n",
    "        else:\n",
    "            COUNTER = 0\n",
    "            ALARM_ON = False\n",
    "        cv2.putText(frame,f'EAR :{ear:.3f}',(right,top),cv2.FONT_HERSHEY_SIMPLEX,1,(0,0,255),2)\n",
    "    cv2.imshow('Frame',frame)\n",
    "    \n",
    "    if cv2.waitKey(1) & 0xFF == ord('q'):\n",
    "        break\n",
    "        \n",
    "vs.release()\n",
    "cv2.destroyAllWindows()"
   ]
  }
 ],
 "metadata": {
  "kernelspec": {
   "display_name": "Python 3",
   "language": "python",
   "name": "python3"
  },
  "language_info": {
   "codemirror_mode": {
    "name": "ipython",
    "version": 3
   },
   "file_extension": ".py",
   "mimetype": "text/x-python",
   "name": "python",
   "nbconvert_exporter": "python",
   "pygments_lexer": "ipython3",
   "version": "3.7.1"
  }
 },
 "nbformat": 4,
 "nbformat_minor": 2
}
