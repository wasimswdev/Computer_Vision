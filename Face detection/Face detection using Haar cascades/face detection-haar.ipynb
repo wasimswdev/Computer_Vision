{
 "cells": [
  {
   "cell_type": "code",
   "execution_count": 6,
   "metadata": {},
   "outputs": [],
   "source": [
    "##Importing the dependencies\n",
    "import cv2\n",
    "import numpy as np\n",
    "import matplotlib.pyplot as plt\n"
   ]
  },
  {
   "cell_type": "code",
   "execution_count": null,
   "metadata": {},
   "outputs": [],
   "source": [
    "##Helper function to display detected face\n",
    "def show_detections(image,detections):\n",
    "    for (x,y,w,h) in detections:\n",
    "        cv2.rectangle(image,(x,y),(x+w,y+h),(255,0,0),2)\n",
    "    plt.imshow(image[:,:,::-1])         ##converting to rgb image and displaying"
   ]
  },
  {
   "cell_type": "markdown",
   "metadata": {},
   "source": [
    "## Face detection in the image"
   ]
  },
  {
   "cell_type": "code",
   "execution_count": 25,
   "metadata": {},
   "outputs": [],
   "source": [
    "##loading the image\n",
    "image = cv2.imread('faces.jpg')\n",
    "\n",
    "## Haar cascade uses gray scale images for detection\n",
    "## Converting image to grayscale\n",
    "gray = cv2.cvtColor(image,cv2.COLOR_BGR2GRAY)\n",
    "\n",
    "##initializing the haar-cascade classifier\n",
    "face_detector = cv2.CascadeClassifier('haarcascade_frontalcatface.xml')\n",
    "\n",
    "##getting the detections in the frame\n",
    "detections = face_detector.detectMultiScale(gray)\n",
    "\n",
    "##showing the detections\n",
    "show_detections(image,detections)"
   ]
  },
  {
   "cell_type": "markdown",
   "metadata": {},
   "source": [
    "## Face detections in the video"
   ]
  },
  {
   "cell_type": "code",
   "execution_count": null,
   "metadata": {},
   "outputs": [],
   "source": [
    "face_detector = cv2.CascadeClassifier('haarcascade_frontalface_default.xml')\n",
    "\n",
    "cam = cv2.VideoCapture('video1.mp4')\n",
    "cam.set(3,640) # set Width\n",
    "cam.set(4,480) # set Height\n",
    "\n",
    "while True:\n",
    "    \n",
    "    ret,frame = cam.read()\n",
    "    \n",
    "    if not ret:\n",
    "        break\n",
    "        \n",
    "    gray = cv2.cvtColor(frame,cv2.COLOR_BGR2GRAY)\n",
    "    faces = face_detector.detectMultiScale(gray,1.5,3)\n",
    "    \n",
    "    for (x,y,w,h) in faces:\n",
    "        cv2.rectangle(frame,(x,y),(x+w,y+h),(0,255,0),2)\n",
    "        cv2.imshow('Frame',frame)\n",
    "\n",
    "    if cv2.waitKey(1) & 0xFF == ord('q'):\n",
    "        break\n",
    "        \n",
    "cam.release()\n",
    "cv2.destroyAllWindows()"
   ]
  },
  {
   "cell_type": "code",
   "execution_count": null,
   "metadata": {},
   "outputs": [],
   "source": []
  }
 ],
 "metadata": {
  "kernelspec": {
   "display_name": "Python 3",
   "language": "python",
   "name": "python3"
  },
  "language_info": {
   "codemirror_mode": {
    "name": "ipython",
    "version": 3
   },
   "file_extension": ".py",
   "mimetype": "text/x-python",
   "name": "python",
   "nbconvert_exporter": "python",
   "pygments_lexer": "ipython3",
   "version": "3.7.1"
  }
 },
 "nbformat": 4,
 "nbformat_minor": 2
}
