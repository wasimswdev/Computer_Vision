{
 "cells": [
  {
   "cell_type": "markdown",
   "metadata": {},
   "source": [
    "# Save Your Neural Network Model to JSON"
   ]
  },
  {
   "cell_type": "code",
   "execution_count": 19,
   "metadata": {},
   "outputs": [
    {
     "name": "stderr",
     "output_type": "stream",
     "text": [
      "Using TensorFlow backend.\n"
     ]
    }
   ],
   "source": [
    "import numpy as np\n",
    "import matplotlib.pyplot as plt\n",
    "import pandas as pd\n",
    "import os\n",
    "from keras.models import Sequential\n",
    "from keras.layers import Dense\n",
    "from keras.models import model_from_json\n",
    "\n",
    "\n",
    "#fix random seed for reproducibility\n",
    "numpy.random.seed(7)\n",
    "\n",
    "##reading the dataset\n",
    "dataset = pd.read_csv('diabetes.csv',delimiter=\",\")\n",
    "\n",
    "\n",
    "#diving independent and dependent variables\n",
    "X = dataset.iloc[:,:-1].values\n",
    "y = dataset.iloc[:,8].values\n",
    "\n",
    "\n",
    "\n",
    "##create the model\n",
    "model = Sequential()\n",
    "model.add(Dense(12,input_dim=8,kernel_initializer='uniform',activation='relu'))\n",
    "model.add(Dense(8, kernel_initializer='uniform', activation='relu'))\n",
    "model.add(Dense(1, kernel_initializer='uniform', activation='sigmoid'))\n",
    "\n",
    "\n",
    "##compile model\n",
    "model.compile(optimizer='adam',loss='binary_crossentropy',metrics=['accuracy'])\n",
    "\n",
    "\n",
    "\n",
    "##training the model\n",
    "model.fit(X,y,batch_size=10,epochs=150,verbose=0)\n",
    "\n",
    "\n",
    "##Evaluate the model\n",
    "scores = model.evaluate(X,y,verbose=0)\n",
    "print(f'{model.metrics_names[1]}:{scores[1]*100:.2f}')\n",
    "\n",
    "\n",
    "\n",
    "##serialize model to JSON\n",
    "model_json = model.to_json()\n",
    "with open('model.json','w') as json_file:\n",
    "    json_file.write(model_json)\n",
    "    \n",
    "    \n",
    "##serialize weights to hdf5\n",
    "model.save_weights('model.h5')\n",
    "\n"
   ]
  },
  {
   "cell_type": "markdown",
   "metadata": {},
   "source": [
    "# Loading the saved model"
   ]
  },
  {
   "cell_type": "code",
   "execution_count": 37,
   "metadata": {},
   "outputs": [],
   "source": [
    "#Loading the saved model\n",
    "json_file = open('model.json','r')\n",
    "loaded_model_json = json_file.read()\n",
    "json_file.close()\n",
    "loaded_model = model_from_json(loaded_model_json)\n",
    "\n",
    "\n",
    "\n",
    "##loading the weights\n",
    "loaded_model.load_weights('model.h5')"
   ]
  },
  {
   "cell_type": "code",
   "execution_count": 40,
   "metadata": {},
   "outputs": [
    {
     "name": "stdout",
     "output_type": "stream",
     "text": [
      "acc:78.64583333333334\n"
     ]
    }
   ],
   "source": [
    "##Evaluating the loaded model\n",
    "loaded_model.compile(optimizer='adam',loss='binary_crossentropy',metrics=['accuracy'])\n",
    "scores = loaded_model.evaluate(X,y,verbose=0)\n",
    "print(f'{loaded_model.metrics_names[1]}:{scores[1]*100}')"
   ]
  }
 ],
 "metadata": {
  "kernelspec": {
   "display_name": "Python 3",
   "language": "python",
   "name": "python3"
  },
  "language_info": {
   "codemirror_mode": {
    "name": "ipython",
    "version": 3
   },
   "file_extension": ".py",
   "mimetype": "text/x-python",
   "name": "python",
   "nbconvert_exporter": "python",
   "pygments_lexer": "ipython3",
   "version": "3.7.1"
  }
 },
 "nbformat": 4,
 "nbformat_minor": 2
}
